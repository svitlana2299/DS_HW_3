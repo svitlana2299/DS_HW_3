{
  "cells": [
    {
      "cell_type": "markdown",
      "metadata": {
        "id": "STcRTG2nY_kI"
      },
      "source": [
        "Напишіть функцію гіпотези лінійної регресії у векторному вигляді;"
      ]
    },
    {
      "cell_type": "code",
      "execution_count": 24,
      "metadata": {
        "id": "_quYzbMeZEar",
        "colab": {
          "base_uri": "https://localhost:8080/"
        },
        "outputId": "e57cb82c-630c-47cd-acb9-ad2ea16c09c1"
      },
      "outputs": [
        {
          "output_type": "execute_result",
          "data": {
            "text/plain": [
              "array([ 7036627.15462756, 10392020.79073061,  7591864.51496454,\n",
              "        7066928.17491437,  5650577.65683656,  8046157.63893618,\n",
              "        8862041.44657728, 12155033.66266496,  5908136.32927443,\n",
              "        5997273.32237125,  7433006.33878929,  7884833.54232771,\n",
              "        6707103.55900852,  5551877.16057395,  6773736.96722072,\n",
              "        5112734.54674571,  6726041.69668777,  7038870.89473029,\n",
              "        5561696.15574838,  6251044.36727327,  4069593.08695356,\n",
              "        6529434.99115833,  5482378.157826  ,  5546545.64560498,\n",
              "        7152499.72080582,  6703315.93147267,  6091964.01076753,\n",
              "        5794857.42953371,  7644191.44779685,  6309402.66774416,\n",
              "        6650639.07230556,  5084677.26656164,  6074569.76052139,\n",
              "        7462862.99841512,  5837715.29352638,  6470726.76435263,\n",
              "        6653290.41158065,  7635072.30529203,  4705914.51297653,\n",
              "        6498784.04453671,  4914234.02744834,  6228318.60205817,\n",
              "        6273770.13248838,  6498784.04453671,  6498784.04453671,\n",
              "        6091964.01076753,  6091964.01076753,  4933172.16512759,\n",
              "        5448067.32967285,  6637382.37593008,  6637382.37593008,\n",
              "        4829012.40789169,  6498784.04453671,  5770015.67022019,\n",
              "        6091964.01076753,  4705914.51297653,  7173203.92624868,\n",
              "        7635072.30529203,  7135105.47055969,  6091964.01076753,\n",
              "        6091964.01076753,  5389931.20953245,  6589687.10539714,\n",
              "        6635138.63582735,  6666011.76277945,  7182800.74109263,\n",
              "        7026186.3050201 ,  6735860.69186221,  4705914.51297653,\n",
              "        8805449.21387   ,  5334438.50359732,  6498784.04453671,\n",
              "        4334727.01446313,  5912401.62914941,  3963539.51594973,\n",
              "        5839736.85329863,  6251044.36727327,  6281345.38756008,\n",
              "        4592285.686901  ,  6091964.01076753,  4705914.51297653,\n",
              "        5334438.50359732,  7796396.4019005 ,  6091964.01076753,\n",
              "        3857485.9449459 ,  6944180.20633401,  4959685.55787855,\n",
              "        3933238.49566292,  5239969.99553153,  9268861.48034646,\n",
              "        4327151.75939143,  4583166.54439618,  5637448.7064654 ,\n",
              "        6546479.31506965,  6498784.04453671,  5372314.77895583,\n",
              "        5842202.77373185,  4857419.61441057,  6319221.66291859,\n",
              "        5112734.54674571,  6319221.66291859,  4516533.13618398,\n",
              "        5902582.63397498,  6224530.97452232,  5902582.63397498,\n",
              "        4137770.38259888,  6290464.5300649 ,  4864994.86948228,\n",
              "        4067349.34685083,  6731723.13799155,  4933172.16512759,\n",
              "        5604339.7644804 ,  6668527.4309804 ,  6077035.68095461,\n",
              "        4602104.68207543,  5463440.02014674,  6432850.48899412,\n",
              "        4241580.21349997,  4864994.86948228,  5092252.52163334,\n",
              "        4910446.39991249,  5172171.4626398 ,  6594989.78394733,\n",
              "        6998750.87926905,  6290814.45639971,  8342036.94739354,\n",
              "        5145279.30713525,  6281345.38756008,  4516533.13618398,\n",
              "        6773959.1475512 ,  4251399.20867441,  5047587.35312908,\n",
              "        4402904.31010845,  4251399.20867441,  5084677.26656164,\n",
              "        6091964.01076753,  6271526.39238565,  4597617.20186997,\n",
              "        4327151.75939143,  4842269.10426717,  6016211.46005051,\n",
              "        6748767.46190288,  8203216.43566968,  6451088.77400377,\n",
              "        4620342.96708508,  4327151.75939143,  6003526.87034032,\n",
              "        5902582.63397498,  4842269.10426717,  6726041.69668777,\n",
              "        4378663.493879  ,  4506714.14100955,  5292296.92836383,\n",
              "        6455354.07387874,  5201871.53984253,  6129840.28612604,\n",
              "        5046800.99120313,  5293182.19987532,  5455864.76507504,\n",
              "        5012490.16304998,  5192274.72499859,  4743790.78833504,\n",
              "        6726041.69668777,  5018393.78468424,  6360885.56581295,\n",
              "        6262407.24988083,  5387687.46942972,  5154876.1219792 ,\n",
              "        4453687.35550763,  6703315.93147267,  5902582.63397498,\n",
              "        6322852.70803134,  5614945.12158078,  6233650.11702714,\n",
              "        3872636.4550893 ,  7938082.50816011,  5660396.652011  ,\n",
              "        4724852.65065579,  5116872.10061637,  5023853.04565754,\n",
              "        5930639.91415905,  5160429.81727866,  3724918.98119111,\n",
              "        5455864.76507504,  4955675.75001222,  3569626.25222122,\n",
              "        6348200.97610277,  4743790.78833504,  4193040.90820352,\n",
              "        3367338.10538799,  5718754.95248188,  6486099.45482652,\n",
              "        4933172.16512759,  3844579.17490523,  6906303.9309755 ,\n",
              "        7282600.76412739,  5344508.51552102,  4879923.19929519,\n",
              "        4686218.84979011,  4024141.55652334,  4145345.63767058,\n",
              "        3984371.46739691,  3587020.50246735,  4885476.89459465,\n",
              "        4240036.32606685,  4819543.33905206,  4223341.92849033,\n",
              "        3569626.25222122,  3558263.36961367,  4978623.69555781,\n",
              "        4193069.7446223 ,  7319377.51271375,  5521576.14028714,\n",
              "        6118127.47718368,  3674135.93579193,  4008991.04637994,\n",
              "        4721065.02311994,  5032408.00656689,  3850260.616209  ,\n",
              "        5084677.26656164,  5908136.32927443,  5521576.14028714,\n",
              "        5498257.35705779,  4827497.35687735,  5905048.55440819,\n",
              "        4465750.0907848 ,  4391541.4275009 ,  4299094.47920735,\n",
              "        3808246.78697984,  7887707.06193329,  4071836.82705629,\n",
              "        4069593.08695356,  3851804.50364212,  4008991.04637994,\n",
              "        5288986.97316711,  4584710.4318293 ,  3113567.06048597,\n",
              "        4330939.38692728,  5934427.54169491,  3948389.00580632,\n",
              "        3887786.96523271,  3857485.9449459 ,  3812034.41451569,\n",
              "        3399183.01310792,  4448355.84053866,  4463506.35068207,\n",
              "        3766582.88408547,  6021765.15534997,  4965494.74518665,\n",
              "        6116233.66341576,  3762795.25654962,  3740069.49133452,\n",
              "        6167938.74181504,  3359762.85031629,  4548378.04390391,\n",
              "        4255536.76254506,  3948389.00580632,  5558130.70854302,\n",
              "        3963539.51594973,  4435449.07049799,  3630985.81830201,\n",
              "        3762795.25654962,  3446878.28364087,  3936268.5976916 ,\n",
              "        3882455.45026374,  3524174.72179101,  4281700.22896122,\n",
              "        4296850.73910462,  4715033.65548135,  3910512.73044781,\n",
              "        5523819.88038987,  3968521.10458389,  3976796.21232521,\n",
              "        4165827.66278295,  5283177.78585901,  3553689.38015187,\n",
              "        3693074.07347118,  5950500.08483841,  3721131.35365526,\n",
              "        4435449.07049799,  4435449.07049799,  3730950.34882969,\n",
              "        3257146.98051351,  4491563.63086614,  4969504.55305299,\n",
              "        4952110.30280685,  3488949.78570759,  4516533.13618398,\n",
              "        4342302.26953483,  4242280.06616959,  6600827.8076742 ,\n",
              "        3551824.40280272,  5266668.80712437,  3696861.70100703,\n",
              "        5741258.5373665 ,  3313961.39355127,  5561696.15574838,\n",
              "        5198083.91230668,  4630161.96225951,  5084677.26656164,\n",
              "        3978311.26333955,  3766582.88408547,  3245784.09790595,\n",
              "        4137770.38259888,  5558130.70854302,  3740069.49133452,\n",
              "        4266549.71881781,  3978690.02609313,  3965812.09247124,\n",
              "        4594587.09984129,  4700233.07167276,  4321820.24442246,\n",
              "        3796883.90437228,  5213234.42245009,  3556719.48218055,\n",
              "        4147589.37777331,  6460907.7691782 ,  5710171.15515374,\n",
              "        4077168.34202526,  3976446.2859904 ,  4069593.08695356,\n",
              "        5194296.28477083,  5129906.61666136,  4478656.86082547,\n",
              "        4137770.38259888,  4150677.15263955,  4393085.31493402,\n",
              "        4887720.63469738,  5523819.88038987,  3933238.49566292,\n",
              "        3560507.1097164 ,  6569205.08028476,  4923353.16995316,\n",
              "        3569626.25222122,  3272647.41699172,  3471876.62537748,\n",
              "        5493741.04043355,  5038653.62946613,  3458241.16624842,\n",
              "        5430673.07942672,  6640470.15079632,  4617033.01188835,\n",
              "        5142249.20510657,  3571869.99232395,  3484754.55899938,\n",
              "        3196544.93993989,  2850705.70949791,  3702193.21597601,\n",
              "        4605670.1292808 ,  4258974.46374611,  3321886.57495778,\n",
              "        3390063.8706031 ,  4234704.81109788,  3515084.41570496,\n",
              "        5208125.0878116 ,  5558130.70854302,  5587509.69582973,\n",
              "        5464983.90757986,  3344612.34017289,  3796883.90437228,\n",
              "        3556719.48218055,  4713489.76804824,  3560507.1097164 ,\n",
              "        3384003.66654574,  3615077.78265143,  4090774.96473554,\n",
              "        3401426.75321065,  3401426.75321065,  4162739.88791671,\n",
              "        3390063.8706031 ,  3647622.54304097,  3785521.02176473,\n",
              "        3637803.54786654,  3162806.21845204,  4745812.34810729,\n",
              "        4690764.00283313,  5383677.66156338,  4898861.33697445,\n",
              "        3295023.25587202,  3766582.88408547,  3730950.34882969,\n",
              "        3541568.97203714,  3626440.66525899,  5930639.91415905,\n",
              "        3730950.34882969,  3405214.3807465 ,  3891574.59276856,\n",
              "        4039292.06666675,  3815822.04205154,  4582466.69172657,\n",
              "        4628045.9681611 ,  3583261.71135028,  3944601.37827047,\n",
              "        5245272.67408172,  3751432.37394207,  5017344.00567983,\n",
              "        3405214.3807465 ,  4261218.20384884,  3615077.78265143,\n",
              "        4810424.19654724,  3356732.74828761,  6031584.1505244 ,\n",
              "        4253642.94877714,  7336043.0738715 ,  4289275.48403292,\n",
              "        3592352.01743633,  4041535.80676948,  3245784.09790595,\n",
              "        3541568.97203714,  3232877.32786528,  3891574.59276856,\n",
              "        3245784.09790595,  3421908.77832303,  4557974.85874786,\n",
              "        3556719.48218055,  4245717.76737063,  3740069.49133452,\n",
              "        3405214.3807465 ,  4165827.66278295,  4718821.28301721,\n",
              "        3587020.50246735,  3825641.03722597,  3435515.40103331,\n",
              "        3853698.31741005,  3607502.52757973,  3232877.32786528,\n",
              "        3455997.42614569,  3245784.09790595,  3556719.48218055,\n",
              "        4648750.17360396,  2973424.84165948,  4044623.58163572,\n",
              "        4728640.27819164,  4158252.40771125,  4276426.3868298 ,\n",
              "        3556719.48218055,  3245784.09790595,  4660462.98254632,\n",
              "        3730950.34882969,  3515055.57928618,  4218854.44828487,\n",
              "        4088531.22463281,  3043117.18831914,  4069593.08695356,\n",
              "        3615077.78265143,  2926429.42379615,  4922315.79127795,\n",
              "        3352187.59524459,  3577551.43362773,  3058296.53488133,\n",
              "        3740069.49133452,  4583166.54439618,  5842202.77373185,\n",
              "        3188940.84844941,  4137770.38259888,  4514639.32241606,\n",
              "        3341611.07456299,  3569626.25222122,  3891574.59276856,\n",
              "        3352187.59524459,  5094496.26173607,  3905181.21547884,\n",
              "        3251465.53920973,  3196894.8662747 ,  3730950.34882969,\n",
              "        3465816.42132012,  3603714.90004388,  3660529.31308164,\n",
              "        3100310.36411049,  3768826.6241882 ,  4355937.7286639 ,\n",
              "        3853698.31741005,  4215066.82074902,  5075558.12405682,\n",
              "        4488533.52883746,  3162806.21845204,  4649100.09993877,\n",
              "        3905181.21547884,  3796883.90437228,  4226429.70335657,\n",
              "        3751432.37394207,  3049177.39237651,  3626440.66525899,\n",
              "        4938853.60643137,  3177956.72859544,  3401426.75321065,\n",
              "        4299094.47920735,  4885476.89459465,  4809724.34387763,\n",
              "        3683255.07829675,  4080955.96956111,  3026451.6271614 ,\n",
              "        3437059.28846643,  3933238.49566292,  4602104.68207543,\n",
              "        3948389.00580632,  3541568.97203714,  3516570.63030052,\n",
              "        2784043.46486693,  6580345.78256183,  3493873.7015042 ,\n",
              "        3353731.48267771,  3344612.34017289,  3948389.00580632,\n",
              "        3232877.32786528,  3948389.00580632,  3128717.57062938,\n",
              "        3390063.8706031 ,  3693074.07347118,  4776113.3683941 ,\n",
              "        3524174.72179101,  3637803.54786654,  3162806.21845204,\n",
              "        4099894.10724036,  3569626.25222122,  3649166.43047409,\n",
              "        3253709.27931246,  3162806.21845204,  3352187.59524459,\n",
              "        3859729.68504863,  4942991.16030203,  3403320.56697858,\n",
              "        3370775.80658904,  5281819.31726777,  3262799.5853985 ,\n",
              "        3405214.3807465 ,  3230983.51409736,  2721926.37327898,\n",
              "        3123386.05566041,  3937026.12319877,  3171925.36095686,\n",
              "        4440780.58546696,  3162806.21845204,  3342368.60007016,\n",
              "        3976446.2859904 ,  3299160.80974267,  4542346.67626533,\n",
              "        3077234.67256058,  3408623.24552877,  3159018.59091619,\n",
              "        3162806.21845204,  3342368.60007016,  3397639.1256748 ,\n",
              "        3535537.60439856,  3891574.59276856])"
            ]
          },
          "metadata": {},
          "execution_count": 24
        }
      ],
      "source": [
        "from sklearn.linear_model import LinearRegression\n",
        "\n",
        "def linear_regression_hypothesis(X, w):\n",
        "    pass\n",
        "\n",
        "model = LinearRegression()\n",
        "model.fit(X, y)\n",
        "\n",
        "predictions = model.predict(X)\n",
        "predictions"
      ]
    },
    {
      "cell_type": "markdown",
      "metadata": {
        "id": "Fq4ah4ZkZE9P"
      },
      "source": [
        "Створіть функцію для обчислення функції втрат у векторному вигляді;"
      ]
    },
    {
      "cell_type": "code",
      "execution_count": 29,
      "metadata": {
        "id": "tQcDFYoRZK3L"
      },
      "outputs": [],
      "source": [
        "from sklearn.metrics import mean_squared_error\n",
        "\n",
        "def compute_cost(predictions, y):\n",
        "    cost = mean_squared_error(y, predictions) / 2.0\n",
        "    return cost"
      ]
    },
    {
      "cell_type": "markdown",
      "metadata": {
        "id": "9hkks-A6ZLNE"
      },
      "source": [
        "Реалізуйте один крок градієнтного спуску;"
      ]
    },
    {
      "cell_type": "code",
      "execution_count": 34,
      "metadata": {
        "id": "FDF1Oqo8ZNwr",
        "colab": {
          "base_uri": "https://localhost:8080/",
          "height": 74
        },
        "outputId": "14750fec-fefc-442a-e5ef-a916c84e4eb2"
      },
      "outputs": [
        {
          "output_type": "execute_result",
          "data": {
            "text/plain": [
              "LinearRegression()"
            ],
            "text/html": [
              "<style>#sk-container-id-4 {color: black;background-color: white;}#sk-container-id-4 pre{padding: 0;}#sk-container-id-4 div.sk-toggleable {background-color: white;}#sk-container-id-4 label.sk-toggleable__label {cursor: pointer;display: block;width: 100%;margin-bottom: 0;padding: 0.3em;box-sizing: border-box;text-align: center;}#sk-container-id-4 label.sk-toggleable__label-arrow:before {content: \"▸\";float: left;margin-right: 0.25em;color: #696969;}#sk-container-id-4 label.sk-toggleable__label-arrow:hover:before {color: black;}#sk-container-id-4 div.sk-estimator:hover label.sk-toggleable__label-arrow:before {color: black;}#sk-container-id-4 div.sk-toggleable__content {max-height: 0;max-width: 0;overflow: hidden;text-align: left;background-color: #f0f8ff;}#sk-container-id-4 div.sk-toggleable__content pre {margin: 0.2em;color: black;border-radius: 0.25em;background-color: #f0f8ff;}#sk-container-id-4 input.sk-toggleable__control:checked~div.sk-toggleable__content {max-height: 200px;max-width: 100%;overflow: auto;}#sk-container-id-4 input.sk-toggleable__control:checked~label.sk-toggleable__label-arrow:before {content: \"▾\";}#sk-container-id-4 div.sk-estimator input.sk-toggleable__control:checked~label.sk-toggleable__label {background-color: #d4ebff;}#sk-container-id-4 div.sk-label input.sk-toggleable__control:checked~label.sk-toggleable__label {background-color: #d4ebff;}#sk-container-id-4 input.sk-hidden--visually {border: 0;clip: rect(1px 1px 1px 1px);clip: rect(1px, 1px, 1px, 1px);height: 1px;margin: -1px;overflow: hidden;padding: 0;position: absolute;width: 1px;}#sk-container-id-4 div.sk-estimator {font-family: monospace;background-color: #f0f8ff;border: 1px dotted black;border-radius: 0.25em;box-sizing: border-box;margin-bottom: 0.5em;}#sk-container-id-4 div.sk-estimator:hover {background-color: #d4ebff;}#sk-container-id-4 div.sk-parallel-item::after {content: \"\";width: 100%;border-bottom: 1px solid gray;flex-grow: 1;}#sk-container-id-4 div.sk-label:hover label.sk-toggleable__label {background-color: #d4ebff;}#sk-container-id-4 div.sk-serial::before {content: \"\";position: absolute;border-left: 1px solid gray;box-sizing: border-box;top: 0;bottom: 0;left: 50%;z-index: 0;}#sk-container-id-4 div.sk-serial {display: flex;flex-direction: column;align-items: center;background-color: white;padding-right: 0.2em;padding-left: 0.2em;position: relative;}#sk-container-id-4 div.sk-item {position: relative;z-index: 1;}#sk-container-id-4 div.sk-parallel {display: flex;align-items: stretch;justify-content: center;background-color: white;position: relative;}#sk-container-id-4 div.sk-item::before, #sk-container-id-4 div.sk-parallel-item::before {content: \"\";position: absolute;border-left: 1px solid gray;box-sizing: border-box;top: 0;bottom: 0;left: 50%;z-index: -1;}#sk-container-id-4 div.sk-parallel-item {display: flex;flex-direction: column;z-index: 1;position: relative;background-color: white;}#sk-container-id-4 div.sk-parallel-item:first-child::after {align-self: flex-end;width: 50%;}#sk-container-id-4 div.sk-parallel-item:last-child::after {align-self: flex-start;width: 50%;}#sk-container-id-4 div.sk-parallel-item:only-child::after {width: 0;}#sk-container-id-4 div.sk-dashed-wrapped {border: 1px dashed gray;margin: 0 0.4em 0.5em 0.4em;box-sizing: border-box;padding-bottom: 0.4em;background-color: white;}#sk-container-id-4 div.sk-label label {font-family: monospace;font-weight: bold;display: inline-block;line-height: 1.2em;}#sk-container-id-4 div.sk-label-container {text-align: center;}#sk-container-id-4 div.sk-container {/* jupyter's `normalize.less` sets `[hidden] { display: none; }` but bootstrap.min.css set `[hidden] { display: none !important; }` so we also need the `!important` here to be able to override the default hidden behavior on the sphinx rendered scikit-learn.org. See: https://github.com/scikit-learn/scikit-learn/issues/21755 */display: inline-block !important;position: relative;}#sk-container-id-4 div.sk-text-repr-fallback {display: none;}</style><div id=\"sk-container-id-4\" class=\"sk-top-container\"><div class=\"sk-text-repr-fallback\"><pre>LinearRegression()</pre><b>In a Jupyter environment, please rerun this cell to show the HTML representation or trust the notebook. <br />On GitHub, the HTML representation is unable to render, please try loading this page with nbviewer.org.</b></div><div class=\"sk-container\" hidden><div class=\"sk-item\"><div class=\"sk-estimator sk-toggleable\"><input class=\"sk-toggleable__control sk-hidden--visually\" id=\"sk-estimator-id-4\" type=\"checkbox\" checked><label for=\"sk-estimator-id-4\" class=\"sk-toggleable__label sk-toggleable__label-arrow\">LinearRegression</label><div class=\"sk-toggleable__content\"><pre>LinearRegression()</pre></div></div></div></div></div>"
            ]
          },
          "metadata": {},
          "execution_count": 34
        }
      ],
      "source": [
        "model.fit(X, y)"
      ]
    },
    {
      "cell_type": "markdown",
      "metadata": {
        "id": "dgNzOwlCZOJp"
      },
      "source": [
        "Знайдіть найкращі параметри $\\vec{w}$ для датасету прогнозуючу ціну на будинок залежно від площі, кількості ванних кімнат та кількості спалень;"
      ]
    },
    {
      "cell_type": "code",
      "source": [
        "# Датасет\n",
        "import gdown\n",
        "import pandas as pd\n",
        "file_id = '1-rAa4XT4_fI0dOBlMNuE6a7jB0wln_Qo'\n",
        "url = f'https://drive.google.com/uc?id={file_id}'\n",
        "output = 'dataset.csv'\n",
        "gdown.download(url, output, quiet=False)\n",
        "\n",
        "df = pd.read_csv('dataset.csv')\n",
        "print(df.head())\n",
        "X = df[['area', 'bathrooms', 'bedrooms']]\n",
        "y = df['price']\n",
        "print(\"X:\")\n",
        "print(X.head())\n",
        "print(\"\\ny:\")\n",
        "print(y.head())\n"
      ],
      "metadata": {
        "colab": {
          "base_uri": "https://localhost:8080/"
        },
        "id": "HFMVhpyskvUg",
        "outputId": "407ce308-914c-4b13-d012-39e49527b7d3"
      },
      "execution_count": 35,
      "outputs": [
        {
          "output_type": "stream",
          "name": "stderr",
          "text": [
            "Downloading...\n",
            "From: https://drive.google.com/uc?id=1-rAa4XT4_fI0dOBlMNuE6a7jB0wln_Qo\n",
            "To: /content/dataset.csv\n",
            "100%|██████████| 30.0k/30.0k [00:00<00:00, 45.2MB/s]"
          ]
        },
        {
          "output_type": "stream",
          "name": "stdout",
          "text": [
            "      price  area  bedrooms  bathrooms  stories mainroad guestroom basement  \\\n",
            "0  13300000  7420         4          2        3      yes        no       no   \n",
            "1  12250000  8960         4          4        4      yes        no       no   \n",
            "2  12250000  9960         3          2        2      yes        no      yes   \n",
            "3  12215000  7500         4          2        2      yes        no      yes   \n",
            "4  11410000  7420         4          1        2      yes       yes      yes   \n",
            "\n",
            "  hotwaterheating airconditioning  parking prefarea furnishingstatus  \n",
            "0              no             yes        2      yes        furnished  \n",
            "1              no             yes        3       no        furnished  \n",
            "2              no              no        2      yes   semi-furnished  \n",
            "3              no             yes        3      yes        furnished  \n",
            "4              no             yes        2       no        furnished  \n",
            "X:\n",
            "   area  bathrooms  bedrooms\n",
            "0  7420          2         4\n",
            "1  8960          4         4\n",
            "2  9960          2         3\n",
            "3  7500          2         4\n",
            "4  7420          1         4\n",
            "\n",
            "y:\n",
            "0    13300000\n",
            "1    12250000\n",
            "2    12250000\n",
            "3    12215000\n",
            "4    11410000\n",
            "Name: price, dtype: int64\n"
          ]
        },
        {
          "output_type": "stream",
          "name": "stderr",
          "text": [
            "\n"
          ]
        }
      ]
    },
    {
      "cell_type": "code",
      "execution_count": 36,
      "metadata": {
        "id": "38Jwd7lLZRiU",
        "colab": {
          "base_uri": "https://localhost:8080/"
        },
        "outputId": "bf2c4d83-e100-41d8-dd70-c2b097018859"
      },
      "outputs": [
        {
          "output_type": "execute_result",
          "data": {
            "text/plain": [
              "array([-1.73171608e+05,  3.78762754e+02,  1.38604950e+06,  4.06820034e+05])"
            ]
          },
          "metadata": {},
          "execution_count": 36
        }
      ],
      "source": [
        "model.fit(X, y)\n",
        "w_sklearn = np.append(model.intercept_, model.coef_)\n",
        "w_sklearn"
      ]
    },
    {
      "cell_type": "markdown",
      "metadata": {
        "id": "WTfh1epYZSII"
      },
      "source": [
        "Знайдіть ці ж параметри за допомогою аналітичного рішення;"
      ]
    },
    {
      "cell_type": "code",
      "execution_count": 32,
      "metadata": {
        "id": "zmjDxOcPZWoO",
        "colab": {
          "base_uri": "https://localhost:8080/"
        },
        "outputId": "cb37c462-8805-433c-b5f3-abc4f60e5892"
      },
      "outputs": [
        {
          "output_type": "execute_result",
          "data": {
            "text/plain": [
              "array([-1.73171608e+05,  3.78762754e+02,  1.38604950e+06,  4.06820034e+05])"
            ]
          },
          "metadata": {},
          "execution_count": 32
        }
      ],
      "source": [
        "X_extended = np.c_[np.ones((len(X), 1)), X]\n",
        "w_analytical = np.linalg.inv(X_extended.T @ X_extended) @ X_extended.T @ y\n",
        "w_analytical"
      ]
    },
    {
      "cell_type": "markdown",
      "metadata": {
        "id": "OF5Yno54ZXK-"
      },
      "source": [
        "Порівняйте отримані результати"
      ]
    },
    {
      "cell_type": "code",
      "execution_count": 33,
      "metadata": {
        "id": "zXbG1zWXZaBF",
        "colab": {
          "base_uri": "https://localhost:8080/"
        },
        "outputId": "f0eec62b-14ca-4908-9625-abcaa2ce1428"
      },
      "outputs": [
        {
          "output_type": "stream",
          "name": "stdout",
          "text": [
            "Parameters (scikit-learn): [-1.73171608e+05  3.78762754e+02  1.38604950e+06  4.06820034e+05]\n",
            "Parameters (analytical solution): [-1.73171608e+05  3.78762754e+02  1.38604950e+06  4.06820034e+05]\n",
            "Cost (scikit-learn): 895585024988.6595\n",
            "Cost (analytical solution): 895585024988.6597\n"
          ]
        }
      ],
      "source": [
        "print(\"Parameters (scikit-learn):\", w_sklearn)\n",
        "print(\"Parameters (analytical solution):\", w_analytical)\n",
        "\n",
        "# Прогнози та втрати\n",
        "predictions_sklearn = model.predict(X)\n",
        "predictions_analytical = np.dot(X_extended, w_analytical)\n",
        "\n",
        "cost_sklearn = compute_cost(predictions_sklearn, y)\n",
        "cost_analytical = compute_cost(predictions_analytical, y)\n",
        "\n",
        "print(\"Cost (scikit-learn):\", cost_sklearn)\n",
        "print(\"Cost (analytical solution):\", cost_analytical)"
      ]
    }
  ],
  "metadata": {
    "colab": {
      "provenance": []
    },
    "kernelspec": {
      "display_name": "Python 3",
      "name": "python3"
    },
    "language_info": {
      "name": "python"
    }
  },
  "nbformat": 4,
  "nbformat_minor": 0
}