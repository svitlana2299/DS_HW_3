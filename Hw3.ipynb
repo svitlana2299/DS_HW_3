{
  "cells": [
    {
      "cell_type": "code",
      "source": [
        "import gdown\n",
        "import pandas as pd\n",
        "import numpy as np\n",
        "from sklearn.linear_model import LinearRegression\n",
        "from sklearn.metrics import mean_squared_error"
      ],
      "metadata": {
        "id": "sNdpqXrxAFSC"
      },
      "execution_count": 40,
      "outputs": []
    },
    {
      "cell_type": "markdown",
      "metadata": {
        "id": "STcRTG2nY_kI"
      },
      "source": [
        "Напишіть функцію гіпотези лінійної регресії у векторному вигляді;"
      ]
    },
    {
      "cell_type": "code",
      "execution_count": 112,
      "metadata": {
        "id": "_quYzbMeZEar"
      },
      "outputs": [],
      "source": [
        "def linear_regression_hypothesis(X, w):\n",
        "    return X @ w"
      ]
    },
    {
      "cell_type": "markdown",
      "metadata": {
        "id": "Fq4ah4ZkZE9P"
      },
      "source": [
        "Створіть функцію для обчислення функції втрат у векторному вигляді;"
      ]
    },
    {
      "cell_type": "code",
      "execution_count": 130,
      "metadata": {
        "id": "tQcDFYoRZK3L"
      },
      "outputs": [],
      "source": [
        "def compute_cost(predictions, y):\n",
        "    cost = np.sum((predictions - y) ** 2)/ 2.0\n",
        "    return cost"
      ]
    },
    {
      "cell_type": "markdown",
      "metadata": {
        "id": "9hkks-A6ZLNE"
      },
      "source": [
        "Реалізуйте один крок градієнтного спуску;"
      ]
    },
    {
      "cell_type": "code",
      "execution_count": 127,
      "metadata": {
        "id": "FDF1Oqo8ZNwr"
      },
      "outputs": [],
      "source": [
        "def gradient_descent_step(X, y, w, learning_rate):\n",
        "    predictions = linear_regression_hypothesis(X, w)\n",
        "    errors = predictions - y\n",
        "    gradient = X.T @ errors / len(y)\n",
        "    w -= learning_rate * gradient\n",
        "    return w"
      ]
    },
    {
      "cell_type": "markdown",
      "metadata": {
        "id": "dgNzOwlCZOJp"
      },
      "source": [
        "Знайдіть найкращі параметри $\\vec{w}$ для датасету прогнозуючу ціну на будинок залежно від площі, кількості ванних кімнат та кількості спалень;"
      ]
    },
    {
      "cell_type": "code",
      "source": [
        "# Датасет\n",
        "import gdown\n",
        "import pandas as pd\n",
        "file_id = '1-rAa4XT4_fI0dOBlMNuE6a7jB0wln_Qo'\n",
        "url = f'https://drive.google.com/uc?id={file_id}'\n",
        "output = 'dataset.csv'\n",
        "gdown.download(url, output, quiet=False)\n",
        "\n",
        "df = pd.read_csv('dataset.csv')\n",
        "X = df[['area', 'bathrooms', 'bedrooms']]\n",
        "y = df['price']"
      ],
      "metadata": {
        "colab": {
          "base_uri": "https://localhost:8080/"
        },
        "id": "HFMVhpyskvUg",
        "outputId": "3a6c76af-d5bc-45b9-8a70-d933bc870837"
      },
      "execution_count": 128,
      "outputs": [
        {
          "output_type": "stream",
          "name": "stderr",
          "text": [
            "Downloading...\n",
            "From: https://drive.google.com/uc?id=1-rAa4XT4_fI0dOBlMNuE6a7jB0wln_Qo\n",
            "To: /content/dataset.csv\n",
            "100%|██████████| 30.0k/30.0k [00:00<00:00, 45.4MB/s]\n"
          ]
        }
      ]
    },
    {
      "cell_type": "code",
      "execution_count": 145,
      "metadata": {
        "id": "38Jwd7lLZRiU",
        "colab": {
          "base_uri": "https://localhost:8080/"
        },
        "outputId": "e78bfea6-afc1-4f64-d550-a4662c3e3b45"
      },
      "outputs": [
        {
          "output_type": "stream",
          "name": "stdout",
          "text": [
            "Parameters (Gradient Descent): [1.70883182e-01 8.18216804e+02 2.55823501e-01 5.42779647e-01]\n",
            "Cost (Gradient Descent): 847734113899.91\n"
          ]
        }
      ],
      "source": [
        "X_extended = np.c_[np.ones((len(X), 1)), X]\n",
        "w_gradient_descent = np.zeros(X_extended.shape[1])\n",
        "\n",
        "learning_rate = 1e-10\n",
        "num_iterations = 1000\n",
        "\n",
        "\n",
        "for iteration in range(num_iterations):\n",
        "    predictions_gradient_descent = X_extended @ w_gradient_descent\n",
        "    errors = predictions_gradient_descent - y\n",
        "    gradient = X_extended.T @ errors / len(y)\n",
        "    gradient[np.isnan(gradient) | np.isinf(gradient)] = 0\n",
        "\n",
        "    w_gradient_descent -= learning_rate * gradient\n",
        "\n",
        "print(\"Parameters (Gradient Descent):\", w_gradient_descent)\n",
        "cost_gradient_descent = mean_squared_error(y, predictions_gradient_descent) / 4.0\n",
        "print(\"Cost (Gradient Descent):\", cost_gradient_descent)\n"
      ]
    },
    {
      "cell_type": "markdown",
      "metadata": {
        "id": "WTfh1epYZSII"
      },
      "source": [
        "Знайдіть ці ж параметри за допомогою аналітичного рішення;"
      ]
    },
    {
      "cell_type": "code",
      "execution_count": 146,
      "metadata": {
        "id": "zmjDxOcPZWoO",
        "colab": {
          "base_uri": "https://localhost:8080/"
        },
        "outputId": "d627c32e-aef1-401b-d3bc-2729d644eae5"
      },
      "outputs": [
        {
          "output_type": "stream",
          "name": "stdout",
          "text": [
            "Parameters (Analytical Solution): [-1.73171608e+05  3.78762754e+02  1.38604950e+06  4.06820034e+05]\n",
            "Cost (Analytical Solution): 895585024988.6597\n"
          ]
        }
      ],
      "source": [
        "w_analytical = np.linalg.inv(X_extended.T @ X_extended) @ X_extended.T @ y\n",
        "\n",
        "print(\"Parameters (Analytical Solution):\", w_analytical)\n",
        "predictions_analytical = X_extended @ w_analytical\n",
        "cost_analytical = mean_squared_error(y, predictions_analytical) / 2.0\n",
        "print(\"Cost (Analytical Solution):\", cost_analytical)"
      ]
    },
    {
      "cell_type": "markdown",
      "metadata": {
        "id": "OF5Yno54ZXK-"
      },
      "source": [
        "Порівняйте отримані результати"
      ]
    },
    {
      "cell_type": "code",
      "execution_count": 147,
      "metadata": {
        "id": "zXbG1zWXZaBF",
        "colab": {
          "base_uri": "https://localhost:8080/"
        },
        "outputId": "f813b173-e87d-41c6-f45a-d646541c6173"
      },
      "outputs": [
        {
          "output_type": "stream",
          "name": "stdout",
          "text": [
            "\n",
            "Comparison:\n",
            "Parameters (Gradient Descent): [1.70883182e-01 8.18216804e+02 2.55823501e-01 5.42779647e-01]\n",
            "Parameters (Analytical Solution): [-1.73171608e+05  3.78762754e+02  1.38604950e+06  4.06820034e+05]\n",
            "\n",
            "Cost (Gradient Descent): 847734113899.91\n",
            "Cost (Analytical Solution): 895585024988.6597\n"
          ]
        }
      ],
      "source": [
        "print(\"\\nComparison:\")\n",
        "print(\"Parameters (Gradient Descent):\", w_gradient_descent)\n",
        "print(\"Parameters (Analytical Solution):\", w_analytical)\n",
        "\n",
        "print(\"\\nCost (Gradient Descent):\", cost_gradient_descent)\n",
        "print(\"Cost (Analytical Solution):\", cost_analytical)"
      ]
    }
  ],
  "metadata": {
    "colab": {
      "provenance": []
    },
    "kernelspec": {
      "display_name": "Python 3",
      "name": "python3"
    },
    "language_info": {
      "name": "python"
    }
  },
  "nbformat": 4,
  "nbformat_minor": 0
}